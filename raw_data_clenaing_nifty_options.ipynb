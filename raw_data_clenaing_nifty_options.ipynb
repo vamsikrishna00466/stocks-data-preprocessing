{
  "nbformat": 4,
  "nbformat_minor": 0,
  "metadata": {
    "colab": {
      "name": "raw_data_clenaing_nifty_options.ipynb",
      "provenance": [],
      "mount_file_id": "1reWCQ34-rtQahOJLfcBoMip4Cnnd31In",
      "authorship_tag": "ABX9TyPOHWEcbqQ8nZZs0iKyVFOG",
      "include_colab_link": true
    },
    "kernelspec": {
      "name": "python3",
      "display_name": "Python 3"
    },
    "language_info": {
      "name": "python"
    }
  },
  "cells": [
    {
      "cell_type": "markdown",
      "metadata": {
        "id": "view-in-github",
        "colab_type": "text"
      },
      "source": [
        "<a href=\"https://colab.research.google.com/github/vamsikrishna00466/stocks-data-preprocessing/blob/main/raw_data_clenaing_nifty_options.ipynb\" target=\"_parent\"><img src=\"https://colab.research.google.com/assets/colab-badge.svg\" alt=\"Open In Colab\"/></a>"
      ]
    },
    {
      "cell_type": "code",
      "source": [
        "import pandas as pd\n",
        "\n",
        "#df = pd.read_csv('/content/drive/MyDrive/Forward testing/nifty/long_straddle_ATM/Data/NIFTY_2008.csv')\n",
        "\n",
        "#df = pd.read_csv('/content/drive/MyDrive/Forward testing/nifty/long_straddle_ATM/Options_data/nifty_2017-2020.csv', nrows=9678375,header=None)\n",
        "\n",
        "df = pd.read_csv('/content/drive/MyDrive/Forward testing/nifty/long_straddle_ATM/Options_data/nifty_2017-2020.csv', skiprows=range(0, 9678375), nrows=9678375,header=None)\n",
        "\n",
        "#38713500/4\n",
        "#9678375"
      ],
      "metadata": {
        "id": "Bf3fTcQSltCT"
      },
      "execution_count": null,
      "outputs": []
    },
    {
      "cell_type": "code",
      "source": [
        "def data_cleaning(df1):\n",
        "  import time\n",
        "  start_time = time.time()\n",
        "\n",
        "  df1 = df1[0].str.split(';', expand=True)#spliting\n",
        "  print('spliting completed')\n",
        "  df1.columns = ['instrument','date','time','open','high','low','close','oi','volume']#adding column names\n",
        "  print('columns adding completed')\n",
        "  c1 = ['date', 'time', 'open', 'high', 'low', 'close', 'oi','volume']\n",
        "  for i in c1:\n",
        "    df1[i] = df1[i].str[1:-1]#cleaning columns\n",
        "  print('cleaning completed')\n",
        "  df1['expiry'] = df1['instrument'].str[5:10]\n",
        "  df1['strike'] = df1['instrument'].str[10:-6]\n",
        "  df1['option_type'] = df1['instrument'].str[-6:-4]\n",
        "  print('df clening completed')\n",
        "\n",
        "  print(\"--- Exicution time in minutes ---\",round((time.time() - start_time)/60,3))\n",
        "  return df1"
      ],
      "metadata": {
        "id": "GgA1-QkfxgQd"
      },
      "execution_count": null,
      "outputs": []
    },
    {
      "cell_type": "code",
      "source": [
        "import time\n",
        "start_time = time.time()\n",
        "\n",
        "import pandas as pd\n",
        "\n",
        "#df = pd.read_csv('/content/drive/MyDrive/Forward testing/nifty/long_straddle_ATM/Data/NIFTY_2008.csv')\n",
        "\n",
        "#df = pd.read_csv('/content/drive/MyDrive/Forward testing/nifty/long_straddle_ATM/Options_data/nifty_2017-2020.csv', nrows=9678375,header=None)\n",
        "\n",
        "df = pd.read_csv('/content/drive/MyDrive/Forward testing/nifty/long_straddle_ATM/Options_data/nifty_2017-2020.csv', skiprows=range(0, 29035125), nrows=9678375,header=None)\n",
        "\n",
        "#38713500/4\n",
        "#9678375\n",
        "print(df.shape)\n",
        "\n",
        "df = data_cleaning(df)\n",
        "\n",
        "print(df.shape)\n",
        "\n",
        "df.to_csv('/content/drive/MyDrive/Forward testing/nifty/long_straddle_ATM/Options_data/cleaned4.csv',index=False)\n",
        "\n",
        "print(\"--- Total Exicution time in minutes ---\",round((time.time() - start_time)/60,2))"
      ],
      "metadata": {
        "id": "AYqDGclDyWg5"
      },
      "execution_count": null,
      "outputs": []
    },
    {
      "cell_type": "code",
      "source": [
        "9678375+9678375+9678375+9678375"
      ],
      "metadata": {
        "id": "Ac672ljV4IuI"
      },
      "execution_count": null,
      "outputs": []
    },
    {
      "cell_type": "code",
      "source": [
        "df.tail()"
      ],
      "metadata": {
        "id": "oYZ8AVBG1N_D"
      },
      "execution_count": null,
      "outputs": []
    },
    {
      "cell_type": "code",
      "source": [
        "df.head()"
      ],
      "metadata": {
        "id": "3VsG-N8s4WUX"
      },
      "execution_count": null,
      "outputs": []
    },
    {
      "cell_type": "code",
      "source": [
        ""
      ],
      "metadata": {
        "id": "6ghM0rm81Srx"
      },
      "execution_count": null,
      "outputs": []
    }
  ]
}