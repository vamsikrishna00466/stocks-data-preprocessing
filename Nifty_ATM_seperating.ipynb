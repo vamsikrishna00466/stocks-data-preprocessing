{
  "nbformat": 4,
  "nbformat_minor": 0,
  "metadata": {
    "colab": {
      "name": "ATM_collecting.ipynb",
      "provenance": [],
      "mount_file_id": "1XGyJv4lZRNWXQJ87TItiEodCmrbd-QQF",
      "authorship_tag": "ABX9TyNJ5yqYYjb1yLF5J9e7ycuB",
      "include_colab_link": true
    },
    "kernelspec": {
      "name": "python3",
      "display_name": "Python 3"
    },
    "language_info": {
      "name": "python"
    }
  },
  "cells": [
    {
      "cell_type": "markdown",
      "metadata": {
        "id": "view-in-github",
        "colab_type": "text"
      },
      "source": [
        "<a href=\"https://colab.research.google.com/github/vamsikrishna00466/stocks-data-preprocessing/blob/main/Nifty_ATM_seperating.ipynb\" target=\"_parent\"><img src=\"https://colab.research.google.com/assets/colab-badge.svg\" alt=\"Open In Colab\"/></a>"
      ]
    },
    {
      "cell_type": "code",
      "execution_count": 1,
      "metadata": {
        "id": "uW1AcWQ6L0zd"
      },
      "outputs": [],
      "source": [
        "import pandas as pd"
      ]
    },
    {
      "cell_type": "code",
      "source": [
        "nifty_cash = '/content/drive/MyDrive/Forward testing/nifty/long_straddle_ATM/nifty_50_cash_data/nify_50(2017-jul2021).csv'\n",
        "Nifty_optins ='/content/drive/MyDrive/Forward testing/nifty/long_straddle_ATM/Options_data/cleaned2.csv'\n"
      ],
      "metadata": {
        "id": "yStxmCCVMxwW"
      },
      "execution_count": 39,
      "outputs": []
    },
    {
      "cell_type": "code",
      "source": [
        "df_csh =pd.read_csv(nifty_cash)\n",
        "\n",
        "df_csh['ins_date'] = pd.to_datetime(df_csh['ins_date'])\n",
        "\n",
        "df_csh['time'] = df_csh['ins_date'].dt.time\n",
        "\n",
        "import datetime\n",
        "\n",
        "strike = df_csh[df_csh['time']==datetime.time(9, 19)]\n",
        "\n",
        "strike['strike'] = round(strike['close'],-2)\n",
        "\n",
        "strike = strike[['date','strike']]\n",
        "strike.reset_index(drop=bool,inplace=True)"
      ],
      "metadata": {
        "colab": {
          "base_uri": "https://localhost:8080/"
        },
        "id": "nt4Cnh-JM7xq",
        "outputId": "c13b8e49-3eb9-4328-9832-bfe8a662ea9c"
      },
      "execution_count": 36,
      "outputs": [
        {
          "output_type": "stream",
          "name": "stderr",
          "text": [
            "/usr/local/lib/python3.7/dist-packages/ipykernel_launcher.py:11: SettingWithCopyWarning: \n",
            "A value is trying to be set on a copy of a slice from a DataFrame.\n",
            "Try using .loc[row_indexer,col_indexer] = value instead\n",
            "\n",
            "See the caveats in the documentation: https://pandas.pydata.org/pandas-docs/stable/user_guide/indexing.html#returning-a-view-versus-a-copy\n",
            "  # This is added back by InteractiveShellApp.init_path()\n"
          ]
        }
      ]
    },
    {
      "cell_type": "code",
      "source": [
        "Nifty_optins ='/content/drive/MyDrive/Forward testing/nifty/long_straddle_ATM/Options_data/cleaned4.csv'\n",
        "\n",
        "df_optins =pd.read_csv(Nifty_optins)\n",
        "\n",
        "\n",
        "df_optins['date'] = pd.to_datetime(df_optins['date'])\n",
        "strike['date'] = pd.to_datetime(strike['date'])\n",
        "\n",
        "df_optins.reset_index(drop=bool,inplace=True)\n",
        "df_optins['strike'] = df_optins['instrument'].str.extract(r'(\\d{4,20}(?!\\d))', expand=False).str.strip()\n",
        "df_optins['strike'] = df_optins['strike'].astype(float)"
      ],
      "metadata": {
        "colab": {
          "base_uri": "https://localhost:8080/"
        },
        "id": "IW1dyHZNPDsn",
        "outputId": "2d7b0e2f-0df9-4e33-afc6-391a6123ba8f"
      },
      "execution_count": 44,
      "outputs": [
        {
          "output_type": "stream",
          "name": "stderr",
          "text": [
            "/usr/local/lib/python3.7/dist-packages/IPython/core/interactiveshell.py:2882: DtypeWarning: Columns (10) have mixed types.Specify dtype option on import or set low_memory=False.\n",
            "  exec(code_obj, self.user_global_ns, self.user_ns)\n"
          ]
        }
      ]
    },
    {
      "cell_type": "code",
      "source": [
        "del df_optins"
      ],
      "metadata": {
        "id": "Fa_yoQoIbhR2"
      },
      "execution_count": 46,
      "outputs": []
    },
    {
      "cell_type": "code",
      "source": [
        "#str1= pd.merge(df_optins,strike,on=['date','strike'])\n",
        "#str2= pd.merge(df_optins,strike,on=['date','strike'])\n",
        "#str3= pd.merge(df_optins,strike,on=['date','strike'])\n",
        "str4= pd.merge(df_optins,strike,on=['date','strike'])\n"
      ],
      "metadata": {
        "id": "oyROotKyO4s2"
      },
      "execution_count": 45,
      "outputs": []
    },
    {
      "cell_type": "code",
      "source": [
        "opt_str_data = str1.append([str2,str3,str4])"
      ],
      "metadata": {
        "id": "BqBQNvjPPU9y"
      },
      "execution_count": 47,
      "outputs": []
    },
    {
      "cell_type": "code",
      "source": [
        "opt_str_data.reset_index(drop=bool,inplace=True)"
      ],
      "metadata": {
        "id": "pVEWdNRqcHE2"
      },
      "execution_count": 50,
      "outputs": []
    },
    {
      "cell_type": "code",
      "source": [
        "to_path = '/content/drive/MyDrive/Forward testing/nifty/long_straddle_ATM/optins_atm.csv'"
      ],
      "metadata": {
        "id": "9eFrNQZTcbaF"
      },
      "execution_count": 52,
      "outputs": []
    },
    {
      "cell_type": "code",
      "source": [
        "opt_str_data.to_csv(to_path,index=False)"
      ],
      "metadata": {
        "id": "Qi0WB9cvcRUU"
      },
      "execution_count": 53,
      "outputs": []
    },
    {
      "cell_type": "code",
      "source": [
        "opt_str_data"
      ],
      "metadata": {
        "id": "5tX2R0w2aXRH"
      },
      "execution_count": null,
      "outputs": []
    }
  ]
}